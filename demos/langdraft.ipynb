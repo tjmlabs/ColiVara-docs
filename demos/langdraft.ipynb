{
 "cells": [
  {
   "cell_type": "markdown",
   "metadata": {},
   "source": [
    "# This will be the demo integration of Colivara with Langchain"
   ]
  },
  {
   "cell_type": "markdown",
   "metadata": {},
   "source": [
    "#### First we need to install the dependancies"
   ]
  },
  {
   "cell_type": "code",
   "execution_count": null,
   "metadata": {},
   "outputs": [],
   "source": [
    "%pip install colivara-py --quiet\n",
    "%pip install langchain --quiet\n",
    "%pip install langchain-core --quiet\n",
    "%pip install langchain-openai --quiet"
   ]
  },
  {
   "cell_type": "markdown",
   "metadata": {},
   "source": [
    "#### Import the required libraries\n"
   ]
  },
  {
   "cell_type": "code",
   "execution_count": null,
   "metadata": {},
   "outputs": [],
   "source": [
    "# utilities\n",
    "import base64 # for converting docs binaries to base64\n",
    "from pathlib import Path \n",
    "import getpass\n",
    "import os \n",
    "import requests \n",
    "\n",
    "from colivara_py import ColiVara \n",
    "\n",
    "# langchain tools\n",
    "from langchain_core.prompts import ChatPromptTemplate\n",
    "from langchain_openai import ChatOpenAI\n"
   ]
  },
  {
   "cell_type": "code",
   "execution_count": null,
   "metadata": {},
   "outputs": [],
   "source": [
    "# Setup Environment Variables\n",
    "os.environ['OPENAI_API_KEY'] = getpass.getpass()\n",
    "os.environ['COLIVARA_API_KEY'] = getpass.getpass()\n"
   ]
  },
  {
   "cell_type": "markdown",
   "metadata": {},
   "source": [
    "#### Download example docs for our demo (you can use your own docs as well)"
   ]
  },
  {
   "cell_type": "code",
   "execution_count": null,
   "metadata": {},
   "outputs": [],
   "source": [
    "def download_file(url, local_filename):\n",
    "    # Send a GET request to the URL\n",
    "    response = requests.get(url)\n",
    "\n",
    "    # Check if the request was successful\n",
    "    if response.status_code == 200:\n",
    "        # Ensure the 'docs' directory exists\n",
    "        os.makedirs(\"docs\", exist_ok=True)\n",
    "\n",
    "        # Write the content to a local file\n",
    "        with open(local_filename, \"wb\") as f:\n",
    "            f.write(response.content)\n",
    "        print(f\"Successfully downloaded: {local_filename}\")\n",
    "    else:\n",
    "        print(f\"Failed to download: {url}\")\n",
    "\n",
    "\n",
    "# URLs and local filenames\n",
    "files = [\n",
    "    {\n",
    "        \"url\": \"https://github.com/tjmlabs/colivara-demo/raw/main/docs/Work-From-Home%20Guidance.pdf\",\n",
    "        \"filename\": \"docs/Work-From-Home-Guidance.pdf\",\n",
    "    },\n",
    "    {\n",
    "        \"url\": \"https://github.com/tjmlabs/colivara-demo/raw/main/docs/StaffVendorPolicy-Jan2019.pdf\",\n",
    "        \"filename\": \"docs/StaffVendorPolicy-Jan2019.pdf\",\n",
    "    },\n",
    "]"
   ]
  },
  {
   "cell_type": "code",
   "execution_count": null,
   "metadata": {},
   "outputs": [],
   "source": [
    "# Download each file\n",
    "for file in files:\n",
    "    download_file(file[\"url\"], file[\"filename\"])\n"
   ]
  },
  {
   "cell_type": "markdown",
   "metadata": {},
   "source": [
    "#### Start Colivara Client and Create Collection `to upsert documents into`."
   ]
  },
  {
   "cell_type": "code",
   "execution_count": null,
   "metadata": {},
   "outputs": [],
   "source": [
    "rag_client = ColiVara(\n",
    "    base_url=\"https://api.colivara.com\", api_key=os.environ[\"COLIVARA_API_KEY\"]\n",
    ")"
   ]
  },
  {
   "cell_type": "code",
   "execution_count": null,
   "metadata": {},
   "outputs": [],
   "source": [
    "rag_client.create_collection(\"langchain-demo\")"
   ]
  },
  {
   "cell_type": "markdown",
   "metadata": {},
   "source": [
    "#### Upsert the documents to the collection"
   ]
  },
  {
   "cell_type": "code",
   "execution_count": null,
   "metadata": {},
   "outputs": [],
   "source": [
    "def sync_documents():\n",
    "    # get all the documents under docs/ folder and upsert them to colivara\n",
    "    documents_dir = Path(\"docs\")\n",
    "    files = list(documents_dir.glob(\"**/*\"))\n",
    "\n",
    "    for file in files:\n",
    "        with open(file, \"rb\") as f:\n",
    "            file_content = f.read()\n",
    "            encoded_content = base64.b64encode(file_content).decode(\"utf-8\")\n",
    "            rag_client.upsert_document(\n",
    "                name=file.name,\n",
    "                document_base64=encoded_content,\n",
    "                collection_name=\"langchain-demo\",\n",
    "                wait=True,\n",
    "            )\n",
    "            print(f\"Upserted: {file.name}\")"
   ]
  },
  {
   "cell_type": "code",
   "execution_count": null,
   "metadata": {},
   "outputs": [],
   "source": [
    "sync_documents()"
   ]
  },
  {
   "cell_type": "markdown",
   "metadata": {},
   "source": [
    "There is a step called query transformation, which is the process of converting the user query into a format that the RAG model can understand. \n",
    "This step is necessary because the RAG model expects the input to be in a specific format.\n",
    "\n",
    "***for the purpose of the demo, we will skip it and use the RAG query as the input to the RAG directly.***"
   ]
  },
  {
   "cell_type": "markdown",
   "metadata": {},
   "source": [
    "Setup ended successfully.\n",
    "Let's begin work.\n"
   ]
  },
  {
   "cell_type": "code",
   "execution_count": null,
   "metadata": {},
   "outputs": [],
   "source": [
    "query = \"What is the work from home policy?\""
   ]
  },
  {
   "cell_type": "markdown",
   "metadata": {},
   "source": [
    "you can do search by just using this code snippet:\n",
    "\n",
    "```python\n",
    "rag_client.search(query=\"some query\",collection_name=\"collection_name\", top_k=5)\n",
    "``` "
   ]
  },
  {
   "cell_type": "code",
   "execution_count": null,
   "metadata": {},
   "outputs": [],
   "source": [
    "## you can try performing search to see results object structure\n",
    "\n",
    "# results = rag_client.search(query, collection_name=\"langchain-demo\")\n",
    "# print(results.results)"
   ]
  },
  {
   "cell_type": "code",
   "execution_count": null,
   "metadata": {},
   "outputs": [],
   "source": [
    "# get context using the RAG\n",
    "def get_context(query):\n",
    "    results = rag_client.search(query=query, collection_name=\"langchain-demo\", top_k=3)\n",
    "    results = results.results\n",
    "\n",
    "    context = []\n",
    "    for result in results:\n",
    "        document_title = result.document_name\n",
    "        page_num = result.page_number\n",
    "        base64 = result.img_base64\n",
    "        # base64 doesn't have data: part so we need to add it\n",
    "        if \"data:image\" not in base64:\n",
    "            base64 = f\"data:image/png;base64,{base64}\"\n",
    "        context.append(\n",
    "            {\n",
    "                \"metadata\": f\"{document_title} - Page {page_num}\",\n",
    "                \"base64\": base64,\n",
    "            }\n",
    "        )\n",
    "    return context"
   ]
  },
  {
   "cell_type": "code",
   "execution_count": null,
   "metadata": {},
   "outputs": [],
   "source": [
    "context = get_context(query)"
   ]
  },
  {
   "cell_type": "markdown",
   "metadata": {},
   "source": [
    "Now build the prompt using the context and query, and initialize the chat model.\n"
   ]
  },
  {
   "cell_type": "code",
   "execution_count": null,
   "metadata": {},
   "outputs": [],
   "source": [
    "prompt = ChatPromptTemplate.from_messages(\n",
    "    [\n",
    "        (\n",
    "            \"system\",\n",
    "            \"You are a helpful assistant that answers questions based on the provided images/docs.\",\n",
    "        ),\n",
    "        (\n",
    "            \"user\",\n",
    "            [\n",
    "                {\n",
    "                    \"type\": \"text\",\n",
    "                    \"text\": \"Here are some images for context:\",\n",
    "                },\n",
    "                *[ \n",
    "                    {\n",
    "                        \"type\": \"image_url\",\n",
    "                        \"image_url\": {\"url\": image_data[\"base64\"]},\n",
    "                    }\n",
    "                    for image_data in context\n",
    "                ], # we are using * above to unpack the list of images (top_k=3)\n",
    "                {\"type\": \"text\", \"text\": \"Now, please answer the following question:\"},\n",
    "                {\n",
    "                    \"type\": \"text\",\n",
    "                    \"text\": \"{query}\",  # Placeholder for the user's query\n",
    "                },\n",
    "            ],\n",
    "        ),\n",
    "    ]\n",
    ")\n",
    "\n",
    "# Initialize the model\n",
    "model = ChatOpenAI(model=\"gpt-4o\", temperature=0)"
   ]
  },
  {
   "cell_type": "code",
   "execution_count": null,
   "metadata": {},
   "outputs": [],
   "source": [
    "# use chain (bro, it is called langchain for a reason) and just invoke.\n",
    "chain = prompt | model\n",
    "response = chain.invoke({\"query\": query})"
   ]
  },
  {
   "cell_type": "code",
   "execution_count": null,
   "metadata": {},
   "outputs": [],
   "source": [
    "print(response.content)"
   ]
  },
  {
   "cell_type": "markdown",
   "metadata": {},
   "source": [
    "## That's it for now. You can continue to explore more features and capabilities of langchain."
   ]
  }
 ],
 "metadata": {
  "kernelspec": {
   "display_name": "mytorch",
   "language": "python",
   "name": "python3"
  },
  "language_info": {
   "codemirror_mode": {
    "name": "ipython",
    "version": 3
   },
   "file_extension": ".py",
   "mimetype": "text/x-python",
   "name": "python",
   "nbconvert_exporter": "python",
   "pygments_lexer": "ipython3",
   "version": "3.12.7"
  }
 },
 "nbformat": 4,
 "nbformat_minor": 2
}
