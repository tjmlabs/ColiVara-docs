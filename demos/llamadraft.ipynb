{
 "cells": [
  {
   "cell_type": "markdown",
   "metadata": {},
   "source": [
    "# This will be the demo integration of Colivara with LLamaIndex"
   ]
  },
  {
   "cell_type": "markdown",
   "metadata": {},
   "source": [
    "#### First we need to install the dependancies"
   ]
  },
  {
   "cell_type": "code",
   "execution_count": 1,
   "metadata": {},
   "outputs": [
    {
     "name": "stdout",
     "output_type": "stream",
     "text": [
      "Note: you may need to restart the kernel to use updated packages.\n",
      "Note: you may need to restart the kernel to use updated packages.\n",
      "Note: you may need to restart the kernel to use updated packages.\n",
      "Note: you may need to restart the kernel to use updated packages.\n"
     ]
    }
   ],
   "source": [
    "%pip install llama-index-llms-openai -q\n",
    "%pip install llama-index-multi-modal-llms-openai -q\n",
    "%pip install -U llama-index-core -q\n",
    "%pip install -U colivara-py -q"
   ]
  },
  {
   "cell_type": "markdown",
   "metadata": {},
   "source": [
    "#### Import the required libraries\n"
   ]
  },
  {
   "cell_type": "code",
   "execution_count": 2,
   "metadata": {},
   "outputs": [],
   "source": [
    "# utilities\n",
    "import base64 # for converting docs binaries to base64\n",
    "from pathlib import Path \n",
    "import getpass\n",
    "import os \n",
    "import requests \n",
    "\n",
    "from colivara_py import ColiVara \n",
    "\n",
    "# llamaindex tools\n",
    "from llama_index.multi_modal_llms.openai import OpenAIMultiModal\n",
    "from llama_index.core.schema import ImageNode\n"
   ]
  },
  {
   "cell_type": "code",
   "execution_count": 3,
   "metadata": {},
   "outputs": [],
   "source": [
    "# Setup Environment Variables\n",
    "os.environ['OPENAI_API_KEY'] = getpass.getpass()\n",
    "os.environ['COLIVARA_API_KEY'] = getpass.getpass()\n"
   ]
  },
  {
   "cell_type": "markdown",
   "metadata": {},
   "source": [
    "#### Download example docs for our demo (you can use your own docs as well)"
   ]
  },
  {
   "cell_type": "code",
   "execution_count": 4,
   "metadata": {},
   "outputs": [],
   "source": [
    "def download_file(url, local_filename):\n",
    "    # Send a GET request to the URL\n",
    "    response = requests.get(url)\n",
    "\n",
    "    # Check if the request was successful\n",
    "    if response.status_code == 200:\n",
    "        # Ensure the 'docs' directory exists\n",
    "        os.makedirs(\"docs\", exist_ok=True)\n",
    "\n",
    "        # Write the content to a local file\n",
    "        with open(local_filename, \"wb\") as f:\n",
    "            f.write(response.content)\n",
    "        print(f\"Successfully downloaded: {local_filename}\")\n",
    "    else:\n",
    "        print(f\"Failed to download: {url}\")\n",
    "\n",
    "\n",
    "# URLs and local filenames\n",
    "files = [\n",
    "    {\n",
    "        \"url\": \"https://github.com/tjmlabs/colivara-demo/raw/main/docs/Work-From-Home%20Guidance.pdf\",\n",
    "        \"filename\": \"docs/Work-From-Home-Guidance.pdf\",\n",
    "    },\n",
    "    {\n",
    "        \"url\": \"https://github.com/tjmlabs/colivara-demo/raw/main/docs/StaffVendorPolicy-Jan2019.pdf\",\n",
    "        \"filename\": \"docs/StaffVendorPolicy-Jan2019.pdf\",\n",
    "    },\n",
    "]"
   ]
  },
  {
   "cell_type": "code",
   "execution_count": 5,
   "metadata": {},
   "outputs": [
    {
     "name": "stdout",
     "output_type": "stream",
     "text": [
      "Successfully downloaded: docs/Work-From-Home-Guidance.pdf\n",
      "Successfully downloaded: docs/StaffVendorPolicy-Jan2019.pdf\n"
     ]
    }
   ],
   "source": [
    "# Download each file\n",
    "for file in files:\n",
    "    download_file(file[\"url\"], file[\"filename\"])\n"
   ]
  },
  {
   "cell_type": "markdown",
   "metadata": {},
   "source": [
    "#### Start Colivara Client and Create Collection `to upsert documents into`."
   ]
  },
  {
   "cell_type": "code",
   "execution_count": 6,
   "metadata": {},
   "outputs": [],
   "source": [
    "rag_client = ColiVara(\n",
    "    base_url=\"https://api.colivara.com\", api_key=os.environ[\"COLIVARA_API_KEY\"]\n",
    ")"
   ]
  },
  {
   "cell_type": "code",
   "execution_count": 7,
   "metadata": {},
   "outputs": [
    {
     "data": {
      "text/plain": [
       "CollectionOut(id=77, name='llama-index-demo', metadata={}, num_documents=0)"
      ]
     },
     "execution_count": 7,
     "metadata": {},
     "output_type": "execute_result"
    }
   ],
   "source": [
    "rag_client.create_collection(\"llama-index-demo\")"
   ]
  },
  {
   "cell_type": "markdown",
   "metadata": {},
   "source": [
    "#### Upsert the documents to the collection"
   ]
  },
  {
   "cell_type": "code",
   "execution_count": 8,
   "metadata": {},
   "outputs": [],
   "source": [
    "def sync_documents():\n",
    "    # get all the documents under docs/ folder and upsert them to colivara\n",
    "    documents_dir = Path(\"docs\")\n",
    "    files = list(documents_dir.glob(\"**/*\"))\n",
    "\n",
    "    for file in files:\n",
    "        with open(file, \"rb\") as f:\n",
    "            file_content = f.read()\n",
    "            encoded_content = base64.b64encode(file_content).decode(\"utf-8\")\n",
    "            rag_client.upsert_document(\n",
    "                name=file.name,\n",
    "                document_base64=encoded_content,\n",
    "                collection_name=\"llama-index-demo\",\n",
    "                wait=True,\n",
    "            )\n",
    "            print(f\"Upserted: {file.name}\")"
   ]
  },
  {
   "cell_type": "markdown",
   "metadata": {},
   "source": [
    "Internet connection has a great impact on this step."
   ]
  },
  {
   "cell_type": "code",
   "execution_count": 9,
   "metadata": {},
   "outputs": [
    {
     "name": "stdout",
     "output_type": "stream",
     "text": [
      "Upserted: Work-From-Home-Guidance.pdf\n",
      "Upserted: StaffVendorPolicy-Jan2019.pdf\n"
     ]
    }
   ],
   "source": [
    "sync_documents()"
   ]
  },
  {
   "cell_type": "markdown",
   "metadata": {},
   "source": [
    "There is a step called query transformation/translation, which is the process of converting the user query into a format that the RAG model can understand. \n",
    "This step is necessary because the RAG model expects the input to be in a specific format.\n",
    "\n",
    "***for the purpose of the demo, we will skip it and use the RAG query as the input to the RAG directly.***"
   ]
  },
  {
   "cell_type": "markdown",
   "metadata": {},
   "source": [
    "Setup ended successfully.\n",
    "Let's begin work.\n"
   ]
  },
  {
   "cell_type": "code",
   "execution_count": 10,
   "metadata": {},
   "outputs": [],
   "source": [
    "query = \"What is the work from home policy?\""
   ]
  },
  {
   "cell_type": "markdown",
   "metadata": {},
   "source": [
    "you can do search by just using this code snippet:\n",
    "\n",
    "```python\n",
    "rag_client.search(query=\"some query\",collection_name=\"collection_name\", top_k=5)\n",
    "``` "
   ]
  },
  {
   "cell_type": "code",
   "execution_count": null,
   "metadata": {},
   "outputs": [],
   "source": [
    "## you can try performing search to see results object structure\n",
    "\n",
    "# results = rag_client.search(query, collection_name=\"llama-index-demo\")\n",
    "# print(results.results)"
   ]
  },
  {
   "cell_type": "code",
   "execution_count": 11,
   "metadata": {},
   "outputs": [],
   "source": [
    "# get context using the RAG\n",
    "def get_context(query):\n",
    "    results = rag_client.search(query=query, collection_name=\"llama-index-demo\")\n",
    "    results = results.results\n",
    "    context = []\n",
    "    for result in results:\n",
    "        base64 = result.img_base64\n",
    "        context.append(ImageNode(image=base64))\n",
    "    return context"
   ]
  },
  {
   "cell_type": "code",
   "execution_count": 12,
   "metadata": {},
   "outputs": [],
   "source": [
    "context = get_context(query)"
   ]
  },
  {
   "cell_type": "markdown",
   "metadata": {},
   "source": [
    "Now build the prompt using the context and query, and initialize the chat model.\n"
   ]
  },
  {
   "cell_type": "code",
   "execution_count": 13,
   "metadata": {},
   "outputs": [],
   "source": [
    "openai_api_key = os.getenv(\"OPENAI_API_KEY\")\n",
    "gpt_4o = OpenAIMultiModal(model=\"gpt-4o\", max_new_tokens=500, api_key=openai_api_key, temperature=0)"
   ]
  },
  {
   "cell_type": "code",
   "execution_count": 14,
   "metadata": {},
   "outputs": [],
   "source": [
    "complete_response = gpt_4o.complete(query, context)"
   ]
  },
  {
   "cell_type": "code",
   "execution_count": 15,
   "metadata": {},
   "outputs": [
    {
     "name": "stdout",
     "output_type": "stream",
     "text": [
      "The work from home policy for Mount Sinai Health System includes the following key points:\n",
      "\n",
      "1. **Remote Work Arrangements**: \n",
      "   - Remote work is considered a viable alternative when it benefits both the organization and the employee.\n",
      "   - Employees must have a formal agreement to work remotely, specifying the terms and conditions.\n",
      "\n",
      "2. **Remote Work Schedule**:\n",
      "   - Employees must agree on a specific schedule, including days and work hours.\n",
      "   - Additional requirements, such as checking emails or contacting managers, may be specified.\n",
      "\n",
      "3. **Equipment**:\n",
      "   - No equipment can be removed from Mount Sinai without authorization.\n",
      "\n",
      "4. **Evaluation**:\n",
      "   - Employees must participate in evaluation surveys and focus groups regarding remote work.\n",
      "\n",
      "5. **Term and Termination**:\n",
      "   - The agreement can be terminated by Mount Sinai at any time for any reason.\n",
      "\n",
      "6. **Legal Compliance**:\n",
      "   - The agreement is subject to New York law and applicable federal laws.\n",
      "\n",
      "Employees and managers must sign the agreement to acknowledge understanding and acceptance of the terms.\n"
     ]
    }
   ],
   "source": [
    "print(complete_response)"
   ]
  },
  {
   "cell_type": "markdown",
   "metadata": {},
   "source": [
    "## That's it for now. You can continue to explore more features and capabilities of LlamaIndex."
   ]
  }
 ],
 "metadata": {
  "kernelspec": {
   "display_name": "mytorch",
   "language": "python",
   "name": "python3"
  },
  "language_info": {
   "codemirror_mode": {
    "name": "ipython",
    "version": 3
   },
   "file_extension": ".py",
   "mimetype": "text/x-python",
   "name": "python",
   "nbconvert_exporter": "python",
   "pygments_lexer": "ipython3",
   "version": "3.12.7"
  }
 },
 "nbformat": 4,
 "nbformat_minor": 4
}
